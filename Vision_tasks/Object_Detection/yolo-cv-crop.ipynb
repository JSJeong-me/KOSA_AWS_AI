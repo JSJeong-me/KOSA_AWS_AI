{
  "nbformat": 4,
  "nbformat_minor": 0,
  "metadata": {
    "colab": {
      "name": "Untitled7.ipynb",
      "provenance": [],
      "machine_shape": "hm",
      "authorship_tag": "ABX9TyOIlC1IsQaQVslIUiQ/BT2e",
      "include_colab_link": true
    },
    "kernelspec": {
      "name": "python3",
      "display_name": "Python 3"
    },
    "language_info": {
      "name": "python"
    },
    "accelerator": "GPU"
  },
  "cells": [
    {
      "cell_type": "markdown",
      "metadata": {
        "id": "view-in-github",
        "colab_type": "text"
      },
      "source": [
        "<a href=\"https://colab.research.google.com/github/JSJeong-me/Vision_tasks/blob/main/Object_Detection/yolo-cv-crop.ipynb\" target=\"_parent\"><img src=\"https://colab.research.google.com/assets/colab-badge.svg\" alt=\"Open In Colab\"/></a>"
      ]
    },
    {
      "cell_type": "code",
      "metadata": {
        "id": "TKNm0LTShAyN"
      },
      "source": [
        "# https://github.com/ultralytics/yolov5/issues/36"
      ],
      "execution_count": null,
      "outputs": []
    },
    {
      "cell_type": "code",
      "metadata": {
        "id": "ctlhKhSbhO0x"
      },
      "source": [
        "#pip install -r https://raw.githubusercontent.com/ultralytics/yolov5/master/requirements.txt"
      ],
      "execution_count": null,
      "outputs": []
    },
    {
      "cell_type": "code",
      "metadata": {
        "id": "p02gJ-jx2M09"
      },
      "source": [
        "import torch\n",
        "import cv2\n",
        "import numpy as np\n",
        "from google.colab.patches import cv2_imshow"
      ],
      "execution_count": null,
      "outputs": []
    },
    {
      "cell_type": "code",
      "metadata": {
        "id": "6UmpOqot2WNw"
      },
      "source": [
        "model = torch.hub.load('ultralytics/yolov5', 'yolov5s')"
      ],
      "execution_count": null,
      "outputs": []
    },
    {
      "cell_type": "code",
      "metadata": {
        "id": "LcJOoGa82WAQ"
      },
      "source": [
        "img = cv2.imread('traffic-signal-1.jpg')[..., ::-1]"
      ],
      "execution_count": null,
      "outputs": []
    },
    {
      "cell_type": "code",
      "metadata": {
        "id": "WR-LV0iU2Mxy"
      },
      "source": [
        "cv2_imshow(img)"
      ],
      "execution_count": null,
      "outputs": []
    },
    {
      "cell_type": "code",
      "metadata": {
        "id": "uuA7ZFB9-7Hy"
      },
      "source": [
        "model.classes = [2]"
      ],
      "execution_count": null,
      "outputs": []
    },
    {
      "cell_type": "code",
      "metadata": {
        "id": "fAMN0EVw-dRZ"
      },
      "source": [
        "model.conf = 0.6"
      ],
      "execution_count": null,
      "outputs": []
    },
    {
      "cell_type": "code",
      "metadata": {
        "id": "Xli1Bf3D2Mut"
      },
      "source": [
        "results = model(img, size = 720)"
      ],
      "execution_count": null,
      "outputs": []
    },
    {
      "cell_type": "code",
      "metadata": {
        "id": "Tfipkgcx6_Lk"
      },
      "source": [
        "results.save()"
      ],
      "execution_count": null,
      "outputs": []
    },
    {
      "cell_type": "code",
      "metadata": {
        "id": "5C36FnND7y0v"
      },
      "source": [
        "results.crop(save=True)"
      ],
      "execution_count": null,
      "outputs": []
    },
    {
      "cell_type": "code",
      "metadata": {
        "id": "_7M5es6QBQCs"
      },
      "source": [
        ""
      ],
      "execution_count": null,
      "outputs": []
    },
    {
      "cell_type": "code",
      "metadata": {
        "id": "QLzXehmI7yxX"
      },
      "source": [
        ""
      ],
      "execution_count": null,
      "outputs": []
    },
    {
      "cell_type": "code",
      "metadata": {
        "id": "XrT-lQhc7yuF"
      },
      "source": [
        ""
      ],
      "execution_count": null,
      "outputs": []
    },
    {
      "cell_type": "code",
      "metadata": {
        "id": "U5MVNjmW7yrF"
      },
      "source": [
        ""
      ],
      "execution_count": null,
      "outputs": []
    },
    {
      "cell_type": "code",
      "metadata": {
        "id": "wWeQQUui7yn5"
      },
      "source": [
        ""
      ],
      "execution_count": null,
      "outputs": []
    },
    {
      "cell_type": "code",
      "metadata": {
        "id": "Kj8MHQBP7ylB"
      },
      "source": [
        ""
      ],
      "execution_count": null,
      "outputs": []
    },
    {
      "cell_type": "code",
      "metadata": {
        "id": "nM1PBN5B7yiD"
      },
      "source": [
        ""
      ],
      "execution_count": null,
      "outputs": []
    },
    {
      "cell_type": "code",
      "metadata": {
        "id": "KeuV4uxa7yfQ"
      },
      "source": [
        ""
      ],
      "execution_count": null,
      "outputs": []
    },
    {
      "cell_type": "code",
      "metadata": {
        "id": "kKhume467ybn"
      },
      "source": [
        ""
      ],
      "execution_count": null,
      "outputs": []
    },
    {
      "cell_type": "code",
      "metadata": {
        "id": "W1KhHpJl7ySV"
      },
      "source": [
        ""
      ],
      "execution_count": null,
      "outputs": []
    },
    {
      "cell_type": "code",
      "metadata": {
        "id": "HUGcXMAx6TXU"
      },
      "source": [
        ""
      ],
      "execution_count": null,
      "outputs": []
    },
    {
      "cell_type": "code",
      "metadata": {
        "id": "aqRSDpZC2Mo8"
      },
      "source": [
        ""
      ],
      "execution_count": null,
      "outputs": []
    },
    {
      "cell_type": "code",
      "metadata": {
        "id": "vrosTa4U2Ml3"
      },
      "source": [
        ""
      ],
      "execution_count": null,
      "outputs": []
    },
    {
      "cell_type": "code",
      "metadata": {
        "id": "2T7bzJNf2Mja"
      },
      "source": [
        ""
      ],
      "execution_count": null,
      "outputs": []
    },
    {
      "cell_type": "code",
      "metadata": {
        "id": "HYHGfWqm2Mgi"
      },
      "source": [
        ""
      ],
      "execution_count": null,
      "outputs": []
    },
    {
      "cell_type": "code",
      "metadata": {
        "id": "YD-fYTZb2Mdk"
      },
      "source": [
        ""
      ],
      "execution_count": null,
      "outputs": []
    },
    {
      "cell_type": "code",
      "metadata": {
        "id": "sO8bGuAr2Ma4"
      },
      "source": [
        ""
      ],
      "execution_count": null,
      "outputs": []
    },
    {
      "cell_type": "code",
      "metadata": {
        "id": "MC1UrUsT2MYL"
      },
      "source": [
        ""
      ],
      "execution_count": null,
      "outputs": []
    },
    {
      "cell_type": "code",
      "metadata": {
        "id": "5Xx4n-kz2MUz"
      },
      "source": [
        ""
      ],
      "execution_count": null,
      "outputs": []
    },
    {
      "cell_type": "code",
      "metadata": {
        "id": "lA9tTAej2MRd"
      },
      "source": [
        ""
      ],
      "execution_count": null,
      "outputs": []
    },
    {
      "cell_type": "code",
      "metadata": {
        "id": "1Ybs3QCT2MN8"
      },
      "source": [
        ""
      ],
      "execution_count": null,
      "outputs": []
    },
    {
      "cell_type": "code",
      "metadata": {
        "id": "pHlek6G82MKj"
      },
      "source": [
        ""
      ],
      "execution_count": null,
      "outputs": []
    },
    {
      "cell_type": "code",
      "metadata": {
        "id": "yxUB5DjM2MHE"
      },
      "source": [
        ""
      ],
      "execution_count": null,
      "outputs": []
    },
    {
      "cell_type": "code",
      "metadata": {
        "id": "WEpHtkTf2MDZ"
      },
      "source": [
        ""
      ],
      "execution_count": null,
      "outputs": []
    },
    {
      "cell_type": "code",
      "metadata": {
        "id": "Eq9FslJt_qrh"
      },
      "source": [
        "import torch\n",
        "import cv2\n",
        "import numpy as np\n",
        "from google.colab.patches import cv2_imshow"
      ],
      "execution_count": null,
      "outputs": []
    },
    {
      "cell_type": "code",
      "metadata": {
        "id": "B99sW_JyhTpa"
      },
      "source": [
        "# Model\n",
        "model = torch.hub.load('ultralytics/yolov5', 'yolov5s')\n",
        "\n",
        "# Image\n",
        "#img = './traffic-signal-1.jpg'\n",
        "img = cv2.imread('./traffic-signal-1.jpg')[..., ::-1]  # OpenCV image (BGR to RGB)\n",
        "\n",
        "img.shape"
      ],
      "execution_count": null,
      "outputs": []
    },
    {
      "cell_type": "code",
      "metadata": {
        "id": "9hoOAvbOCQtE"
      },
      "source": [
        "model.conf = 0.25  # confidence threshold (0-1)\n",
        "model.iou = 0.45  # NMS IoU threshold (0-1)\n",
        "model.classes =[2, 9]  # (optional list) filter by class, i.e. = [0, 15, 16] for persons, cats and dogs\n",
        "\n",
        "# Inference\n",
        "results = model(img, size=920)"
      ],
      "execution_count": null,
      "outputs": []
    },
    {
      "cell_type": "code",
      "metadata": {
        "id": "T9GqJd839uro"
      },
      "source": [
        "from io import BytesIO\n",
        "from PIL import Image\n",
        "import base64"
      ],
      "execution_count": null,
      "outputs": []
    },
    {
      "cell_type": "code",
      "metadata": {
        "id": "TWjXU8ZN80ej"
      },
      "source": [
        "results.imgs # array of original images (as np array) passed to model for inference\n",
        "results.render()  # updates results.imgs with boxes and labels\n",
        "for img in results.imgs:\n",
        "    buffered = BytesIO()\n",
        "    img_base64 = Image.fromarray(img)\n",
        "    img_base64.save(buffered, format=\"JPEG\")\n",
        "    #print(base64.b64encode(buffered.getvalue()).decode('utf-8'))  # base64 encoded image with results"
      ],
      "execution_count": null,
      "outputs": []
    },
    {
      "cell_type": "code",
      "metadata": {
        "id": "faWSSlwC89CC"
      },
      "source": [
        "img_base64"
      ],
      "execution_count": null,
      "outputs": []
    },
    {
      "cell_type": "code",
      "metadata": {
        "id": "6XVLIGl6kBTo"
      },
      "source": [
        "crops = results.crop(save=True)  # cropped detections dictionary"
      ],
      "execution_count": null,
      "outputs": []
    },
    {
      "cell_type": "code",
      "metadata": {
        "id": "Wi9vD9XMlJqa"
      },
      "source": [
        "no_of_frames = 1  # no_of_frames"
      ],
      "execution_count": null,
      "outputs": []
    },
    {
      "cell_type": "code",
      "metadata": {
        "id": "YmrZVUAAlgz6"
      },
      "source": [
        "for i in range(no_of_frames):\n",
        "  print(results.pandas().xyxy[i])"
      ],
      "execution_count": null,
      "outputs": []
    },
    {
      "cell_type": "code",
      "metadata": {
        "id": "L9GOeDlJulgr"
      },
      "source": [
        "crops_image = results.pandas().xyxy[no_of_frames-1]"
      ],
      "execution_count": null,
      "outputs": []
    },
    {
      "cell_type": "code",
      "metadata": {
        "id": "2_AXSLiv06ni"
      },
      "source": [
        "len(crops_image)"
      ],
      "execution_count": null,
      "outputs": []
    },
    {
      "cell_type": "code",
      "metadata": {
        "id": "9cUgoI_Ry9Kk"
      },
      "source": [
        "results.pandas().xyxy[no_of_frames-1]"
      ],
      "execution_count": null,
      "outputs": []
    },
    {
      "cell_type": "code",
      "metadata": {
        "id": "t2nq1Uja6vkd"
      },
      "source": [
        "results.pandas().xyxy[no_of_frames-1].sort_values('ymin')  # sorted left-right"
      ],
      "execution_count": null,
      "outputs": []
    },
    {
      "cell_type": "code",
      "metadata": {
        "id": "CXQrwG4Fw45Y"
      },
      "source": [
        "target_signal = 4"
      ],
      "execution_count": null,
      "outputs": []
    },
    {
      "cell_type": "code",
      "metadata": {
        "id": "jtP11fLByKZC"
      },
      "source": [
        "crops_image.iloc[target_signal,5] == 9 # Traffic light"
      ],
      "execution_count": null,
      "outputs": []
    },
    {
      "cell_type": "code",
      "metadata": {
        "id": "1sWs7ZDSuvbB"
      },
      "source": [
        "if (crops_image.iloc[target_signal, 5] == 9): # traffic light\n",
        "  x1, y1, x2, y2 = int(crops_image.iloc[target_signal,0]), int(crops_image.iloc[target_signal,1]), int(crops_image.iloc[target_signal,2]), int(crops_image.iloc[target_signal,3])\n",
        "  print(x1, y1, x2, y2)\n",
        "  signal1 = img[y1:y2, x1:x2]\n",
        "  "
      ],
      "execution_count": null,
      "outputs": []
    },
    {
      "cell_type": "code",
      "metadata": {
        "id": "pEopqyC5r4Zp"
      },
      "source": [
        "cv2_imshow(signal1)\n",
        "#cv2.imwrite('./signal-yellow.jpg', signal1)"
      ],
      "execution_count": null,
      "outputs": []
    },
    {
      "cell_type": "code",
      "metadata": {
        "id": "4_M6GsPlWxR-"
      },
      "source": [
        ""
      ],
      "execution_count": null,
      "outputs": []
    },
    {
      "cell_type": "code",
      "metadata": {
        "id": "R4722dAnzJFB"
      },
      "source": [
        "hsv_frame = cv2.cvtColor(signal1, cv2.COLOR_BGR2HSV)\n",
        "\n",
        "# Red color\n",
        "low_red = np.array([1, 220, 90]) # 161,155,84 \n",
        "high_red = np.array([179, 255, 255])\n",
        "red_mask = cv2.inRange(hsv_frame, low_red, high_red)\n",
        "red = cv2.bitwise_and(signal1, signal1, mask=red_mask)\n",
        "\n",
        "# Blue color\n",
        "low_blue = np.array([94, 80, 2])\n",
        "high_blue = np.array([126, 255, 255])\n",
        "blue_mask = cv2.inRange(hsv_frame, low_blue, high_blue)\n",
        "blue = cv2.bitwise_and(signal1, signal1, mask=blue_mask)\n",
        "\n",
        "# Green color\n",
        "low_green = np.array([25, 52, 72])\n",
        "high_green = np.array([102, 255, 255])\n",
        "green_mask = cv2.inRange(hsv_frame, low_green, high_green)\n",
        "green = cv2.bitwise_and(signal1, signal1, mask=green_mask)\n",
        "\n",
        "# Every color except white\n",
        "low = np.array([0, 42, 0])\n",
        "high = np.array([179, 255, 255])\n",
        "mask = cv2.inRange(hsv_frame, low, high)\n",
        "result = cv2.bitwise_and(signal1, signal1, mask=mask)\n",
        "\n",
        "#cv2_imshow(signal1)\n",
        "cv2_imshow(blue)\n",
        "cv2_imshow(green)\n",
        "cv2_imshow(red)\n",
        "#cv2_imshow(result)"
      ],
      "execution_count": null,
      "outputs": []
    },
    {
      "cell_type": "markdown",
      "metadata": {
        "id": "C0Jtr_DjXai2"
      },
      "source": [
        "H :0  202\n",
        "S :40  227\n",
        "V :206  255"
      ]
    },
    {
      "cell_type": "code",
      "metadata": {
        "id": "sUxKFD5WW9JI"
      },
      "source": [
        "l_h, u_h = 0,202\n",
        "l_s, u_s = 40, 227\n",
        "l_v, u_v = 206, 255\n",
        "\n",
        "l_yellow = np.array([l_h, l_s, l_v])\n",
        "u_yellow = np.array([u_h, u_s, u_v])"
      ],
      "execution_count": null,
      "outputs": []
    },
    {
      "cell_type": "code",
      "metadata": {
        "id": "K-wM_t5AXFHG"
      },
      "source": [
        "yellow_mask = cv2.inRange(hsv_frame, l_yellow, u_yellow)\n",
        "yellow = cv2.bitwise_and(signal1, signal1, mask=yellow_mask)"
      ],
      "execution_count": null,
      "outputs": []
    },
    {
      "cell_type": "code",
      "metadata": {
        "id": "L-010134XIDn"
      },
      "source": [
        "cv2_imshow(yellow)"
      ],
      "execution_count": null,
      "outputs": []
    },
    {
      "cell_type": "code",
      "metadata": {
        "id": "Fukzs9OtjQFG"
      },
      "source": [
        "blur = cv2.medianBlur(yellow,15)"
      ],
      "execution_count": null,
      "outputs": []
    },
    {
      "cell_type": "code",
      "metadata": {
        "id": "3edGD6r7jhzc"
      },
      "source": [
        "cv2_imshow(blur)"
      ],
      "execution_count": null,
      "outputs": []
    },
    {
      "cell_type": "code",
      "metadata": {
        "id": "_3rPWhBRjxGc"
      },
      "source": [
        "kernel = np.ones((12,12),np.uint8)"
      ],
      "execution_count": null,
      "outputs": []
    },
    {
      "cell_type": "code",
      "metadata": {
        "id": "6Iyf0voPkAEj"
      },
      "source": [
        "shaved = cv2.morphologyEx(blur,cv2.MORPH_OPEN,kernel)"
      ],
      "execution_count": null,
      "outputs": []
    },
    {
      "cell_type": "code",
      "metadata": {
        "id": "UGukPxiskHoF"
      },
      "source": [
        "cv2_imshow(shaved)"
      ],
      "execution_count": null,
      "outputs": []
    }
  ]
}